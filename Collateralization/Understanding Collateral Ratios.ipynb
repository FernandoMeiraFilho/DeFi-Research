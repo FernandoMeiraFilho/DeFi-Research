{
 "cells": [
  {
   "cell_type": "code",
   "execution_count": 1,
   "metadata": {},
   "outputs": [],
   "source": [
    "import numpy as np\n",
    "import matplotlib.pyplot as plt\n",
    "\n",
    "plt.rcParams[\"figure.figsize\"] = (8,8)"
   ]
  },
  {
   "cell_type": "markdown",
   "metadata": {},
   "source": [
    "# Understanding collateralization"
   ]
  },
  {
   "cell_type": "markdown",
   "metadata": {},
   "source": [
    "#### This is a concept that sounds very simple at first glance but it guides almost all DeFi protocols. Understanding how this dinamic works is essential to asses risk in participating in most of the protocols nowadays."
   ]
  },
  {
   "cell_type": "markdown",
   "metadata": {},
   "source": [
    "For the most cases, you will have some along this lines where R = C / S\n",
    "\n",
    "Where:\n",
    "\n",
    "*R = collateral ratio <br>\n",
    "C = total value of collateral (mosly defined in USD)<br>\n",
    "S = total value of the synthetic or assed of reference (mostly defined in USD)*\n",
    "\n",
    "I am mostly interested in seeing the impact of changes in collateral and reference prices, so to compare, we follow from the standpoint that the quantities don't matter in this phase, only prices.\n",
    "\n",
    "\n",
    "From this we can have the following derivatives to explore effects of prices in the collateralization ratio.\n",
    "\n",
    "dR/dC = 1 / C\n",
    "\n",
    "dR/dS = - (C / S**2)"
   ]
  },
  {
   "cell_type": "code",
   "execution_count": 2,
   "metadata": {},
   "outputs": [],
   "source": [
    "# creating the functions to convert input in ratio variation:\n",
    "\n",
    "def R_C_increment(s:float):\n",
    "    '''\n",
    "    take: \n",
    "    c = total value of collateral (mosly defined in USD)\n",
    "    \n",
    "    returns:\n",
    "    R variation given change in C, if all the rest remains constant\n",
    "    '''\n",
    "    return 1 / s\n",
    "\n",
    "def R_S_increment(s:float, c:float):\n",
    "    '''\n",
    "    take: \n",
    "    c = total value of collateral (mosly defined in USD)\n",
    "    s = total value of the token of reference (mosly defined in USD)\n",
    "    \n",
    "    \n",
    "    returns:\n",
    "    R variation given change in C, if all the rest remains constant\n",
    "    '''\n",
    "    return - (c / s**2)\n",
    "\n",
    "def find_C_liquidation_stables(starting_collaterallization_ratios:list, col_init_price:float, liquidation_ratio: float):\n",
    "    '''\n",
    "    take: \n",
    "    starting_collaterallization_ratios = 1.1, 1.2.. so on\n",
    "    col_init_value = initial collateral price\n",
    "    liquidatioon_ratio = liquidation ratio where the protocol can liquidate your position\n",
    "    \n",
    "    \n",
    "    returns C_percentage_var\n",
    "    list with the percentages variation on C to bring collateteralization down to liquidation spot\n",
    "    \n",
    "    '''\n",
    "    \n",
    "    c_percentage_var = []\n",
    "    \n",
    "    for col_ratio in starting_collaterallization_ratios:\n",
    "        c_absolute_change = (col_ratio - liquidation_ratio) / R_C_increment(col_init_price/col_ratio)\n",
    "        c_relative_change = c_absolute_change / col_init_price\n",
    "        c_percentage_var.append(c_relative_change)\n",
    "        \n",
    "    \n",
    "    return c_percentage_var\n"
   ]
  },
  {
   "cell_type": "markdown",
   "metadata": {},
   "source": [
    "## The stable coin scenario"
   ]
  },
  {
   "cell_type": "markdown",
   "metadata": {},
   "source": [
    "### **For each initial collateralization ratio level, what is the % decrease in collateral price that puts you in liquidation spot?**"
   ]
  },
  {
   "cell_type": "markdown",
   "metadata": {},
   "source": [
    "### **Plotting the curves for possible variations -- using the example of DAI or another stable coin borrowing**"
   ]
  },
  {
   "cell_type": "markdown",
   "metadata": {},
   "source": [
    "Let's assume the following example scenario:\n",
    "\n",
    "* We are using ETH as collateral\n",
    "* ETH initial price is 3500\n",
    "* We are depositing 1 ETH to borrow stable coins\n",
    "* There are no transction or borrow fees\n",
    "* We will start from a 200% collateralization borrow\n"
   ]
  },
  {
   "cell_type": "code",
   "execution_count": 7,
   "metadata": {},
   "outputs": [
    {
     "data": {
      "text/plain": [
       "Text(0, 0.5, '% decrease in collateral price to put you in liquidation spot')"
      ]
     },
     "execution_count": 7,
     "metadata": {},
     "output_type": "execute_result"
    },
    {
     "data": {
      "image/png": "[encoded data removed]",
      "text/plain": [
       "<Figure size 432x288 with 1 Axes>"
      ]
     },
     "metadata": {
      "needs_background": "light"
     },
     "output_type": "display_data"
    }
   ],
   "source": [
    "eth_o = 3500\n",
    "#at a 150% collateralization ratio (e.g DAI)\n",
    "\n",
    "x_150 = list(np.linspace(1.5, 2.5, 10))\n",
    "y_150 = find_C_liquidation_stables(x_150, eth_o, 1.5 )\n",
    "\n",
    "plt.plot(x_150, y_150, 'bo', label='150% collateralization req.')\n",
    "\n",
    "#at a 110% collateralization ratio (e.g LUSD)\n",
    "\n",
    "x_110 = list(np.linspace(1.1, 2.5, 15))\n",
    "y_110 = find_C_liquidation_stables(x_110, eth_o, 1.1 )\n",
    "\n",
    "plt.plot(x_110, y_110, 'ro', label='110% collateralization req.')\n",
    "plt.legend(loc='upper left')\n",
    "plt.xlabel('Initial position collateralization level %')\n",
    "plt.ylabel('% decrease in collateral price to put you in liquidation spot')"
   ]
  },
  {
   "cell_type": "code",
   "execution_count": 4,
   "metadata": {},
   "outputs": [
    {
     "data": {
      "text/plain": [
       "[1.1,\n",
       " 1.2000000000000002,\n",
       " 1.3,\n",
       " 1.4000000000000001,\n",
       " 1.5,\n",
       " 1.6,\n",
       " 1.7000000000000002,\n",
       " 1.8,\n",
       " 1.9,\n",
       " 2.0,\n",
       " 2.1,\n",
       " 2.2,\n",
       " 2.3,\n",
       " 2.4,\n",
       " 2.5]"
      ]
     },
     "execution_count": 4,
     "metadata": {},
     "output_type": "execute_result"
    }
   ],
   "source": [
    "x_110"
   ]
  },
  {
   "cell_type": "code",
   "execution_count": null,
   "metadata": {},
   "outputs": [],
   "source": []
  },
  {
   "cell_type": "code",
   "execution_count": null,
   "metadata": {},
   "outputs": [],
   "source": []
  },
  {
   "cell_type": "code",
   "execution_count": null,
   "metadata": {},
   "outputs": [],
   "source": []
  },
  {
   "cell_type": "code",
   "execution_count": null,
   "metadata": {},
   "outputs": [],
   "source": []
  },
  {
   "cell_type": "code",
   "execution_count": null,
   "metadata": {},
   "outputs": [],
   "source": []
  }
 ],
 "metadata": {
  "kernelspec": {
   "display_name": "Python 3",
   "language": "python",
   "name": "python3"
  },
  "language_info": {
   "codemirror_mode": {
    "name": "ipython",
    "version": 3
   },
   "file_extension": ".py",
   "mimetype": "text/x-python",
   "name": "python",
   "nbconvert_exporter": "python",
   "pygments_lexer": "ipython3",
   "version": "3.7.4"
  }
 },
 "nbformat": 4,
 "nbformat_minor": 4
}
